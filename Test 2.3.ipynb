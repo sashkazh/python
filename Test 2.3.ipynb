{
 "cells": [
  {
   "cell_type": "code",
   "execution_count": 1,
   "metadata": {
    "collapsed": false
   },
   "outputs": [
    {
     "name": "stdout",
     "output_type": "stream",
     "text": [
      "48.0\n",
      "None is not allowed\n",
      "None\n",
      "43.5030713974019\n",
      "-1296.0\n",
      "288.0\n"
     ]
    }
   ],
   "source": [
    "#Задание 2.3\n",
    "#Жуйков Александр, 3 курс, ИВТ\n",
    "#13\n",
    "#Узнать массу шара c диаметром d2\n",
    "def weight(d1,m1,d2):\n",
    "    if d1 == None or d2 == None or m1 == None:\n",
    "        print('None is not allowed')\n",
    "    else:\n",
    "        m2 = m1 * ((d2**3)/(d1**3))\n",
    "        return m2\n",
    "print(weight(3,162,2))\n",
    "print(weight(None,162,2))\n",
    "print(weight(3.1,162,2))\n",
    "print(weight(-1,162,2))\n",
    "\n",
    "#Найти площадь поверхности прямой треугольной призмы\n",
    "def square(a,b,h):\n",
    "    c = ((a*b)*0.5)*2 + ((a*b)*0.5)*10\n",
    "    return c\n",
    "print(square(6,8,10))"
   ]
  }
 ],
 "metadata": {
  "anaconda-cloud": {},
  "kernelspec": {
   "display_name": "Python [Root]",
   "language": "python",
   "name": "Python [Root]"
  },
  "language_info": {
   "codemirror_mode": {
    "name": "ipython",
    "version": 3
   },
   "file_extension": ".py",
   "mimetype": "text/x-python",
   "name": "python",
   "nbconvert_exporter": "python",
   "pygments_lexer": "ipython3",
   "version": "3.5.2"
  }
 },
 "nbformat": 4,
 "nbformat_minor": 0
}
