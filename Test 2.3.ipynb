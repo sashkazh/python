{
 "cells": [
  {
   "cell_type": "code",
   "execution_count": 41,
   "metadata": {
    "collapsed": false
   },
   "outputs": [
    {
     "name": "stdout",
     "output_type": "stream",
     "text": [
      "48.0\n",
      "None is not allowed\n",
      "None\n",
      "43.5030713974019\n",
      "-1296.0\n"
     ]
    }
   ],
   "source": [
    "#Задание 2.3\n",
    "#Жуйков Александр, 3 курс, ИВТ\n",
    "#13\n",
    "#Узнать массу шара c диаметром d2\n",
    "def kek(d1,m1,d2):\n",
    "    if d1 == None or d2 == None or m1 == None:\n",
    "        print('None is not allowed')\n",
    "    else:\n",
    "        m2 = m1 * ((d2**3)/(d1**3))\n",
    "        return m2\n",
    "print(kek(3,162,2))\n",
    "print(kek(None,162,2))\n",
    "print(kek(3.1,162,2))\n",
    "print(kek(-1,162,2))"
   ]
  }
 ],
 "metadata": {
  "anaconda-cloud": {},
  "kernelspec": {
   "display_name": "Python [Root]",
   "language": "python",
   "name": "Python [Root]"
  },
  "language_info": {
   "codemirror_mode": {
    "name": "ipython",
    "version": 3
   },
   "file_extension": ".py",
   "mimetype": "text/x-python",
   "name": "python",
   "nbconvert_exporter": "python",
   "pygments_lexer": "ipython3",
   "version": "3.5.2"
  }
 },
 "nbformat": 4,
 "nbformat_minor": 0
}
