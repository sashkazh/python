{
 "cells": [
  {
   "cell_type": "markdown",
   "metadata": {},
   "source": [
    "# Задание 1"
   ]
  },
  {
   "cell_type": "markdown",
   "metadata": {},
   "source": [
    "### Импликация и Стрелка Пирса"
   ]
  },
  {
   "cell_type": "code",
   "execution_count": 67,
   "metadata": {
    "collapsed": false
   },
   "outputs": [
    {
     "name": "stdout",
     "output_type": "stream",
     "text": [
      "*********************************\n",
      "*  A  *  B  *  A → B  *  A ↓ B  *\n",
      "*********************************\n",
      "*  0  *  0  *    1    *    1    *\n",
      "*  0  *  1  *    1    *    0    *\n",
      "*  1  *  0  *    0    *    0    *\n",
      "*  1  *  1  *    1    *    0    *\n",
      "*********************************\n"
     ]
    }
   ],
   "source": [
    "print('*'*33)\n",
    "print('*  A  *  B  *  A → B  *  A ↓ B  *')\n",
    "print('*'*33)\n",
    "for i in range(4):\n",
    "    a = i // 2\n",
    "    b = i % 2\n",
    "    if a == 1 and b == 0:\n",
    "        imp = 0\n",
    "    else:\n",
    "        imp = 1\n",
    "    if a == 0 and b == 0:\n",
    "        log = 1\n",
    "    else:\n",
    "        log = 0\n",
    "    print('* ', a ,' * ', b ,' *   ', imp ,'   *   ', log ,'   *')\n",
    "print('*'*33)    \n",
    "\n"
   ]
  },
  {
   "cell_type": "markdown",
   "metadata": {},
   "source": [
    "### ((C ∨ B) → B) ∧ (A ∧ B) → B"
   ]
  },
  {
   "cell_type": "code",
   "execution_count": 76,
   "metadata": {
    "collapsed": false
   },
   "outputs": [
    {
     "name": "stdout",
     "output_type": "stream",
     "text": [
      "***************************************************\n",
      "*  A  *  B  *  C  *  ((C ∨ B) → B) ∧ (A ∧ B) → B  *\n",
      "***************************************************\n",
      "*  0  *  0  *  0  *               1               *\n",
      "*  0  *  0  *  1  *               1               *\n",
      "*  0  *  1  *  0  *               1               *\n",
      "*  0  *  1  *  1  *               1               *\n",
      "*  1  *  0  *  0  *               1               *\n",
      "*  1  *  0  *  1  *               1               *\n",
      "*  1  *  1  *  0  *               1               *\n",
      "*  1  *  1  *  1  *               1               *\n",
      "***************************************************\n"
     ]
    }
   ],
   "source": [
    "print('*'*51)\n",
    "print('*  A  *  B  *  C  *  ((C ∨ B) → B) ∧ (A ∧ B) → B  *')\n",
    "print('*'*51)\n",
    "for i in range(8):\n",
    "    a = i//4\n",
    "    b = (i%4)//2\n",
    "    c = (i%4)%2\n",
    "    if not(a and b) or b:\n",
    "        s = 1\n",
    "    else:\n",
    "        s = 0\n",
    "    print('* ', a ,' * ', b ,' * ', c ,' *              ', s ,'              *')\n",
    "print('*'*51) "
   ]
  },
  {
   "cell_type": "markdown",
   "metadata": {},
   "source": [
    "# Задание 3"
   ]
  },
  {
   "cell_type": "code",
   "execution_count": 2,
   "metadata": {
    "collapsed": false
   },
   "outputs": [
    {
     "name": "stdout",
     "output_type": "stream",
     "text": [
      "[89, 233, 610, 1597, 4181, 109]\n",
      "6819\n",
      "('DeLorean DMC-12', 'rear', 4, 2, 1.23, 1.14, 4.216, 1.857)\n"
     ]
    }
   ],
   "source": [
    "list = [0, 1, 1, 2, 3, 5, 8, 13, 21, 34, 55, 89, 144, 233, 377, 610, 987, 1597, 2584, 4181, 6765, 109]\n",
    "halfLen = (len(list)//2)\n",
    "print(list[halfLen:len(list):2])\n",
    "print(sum(list[halfLen:len(list):2]))\n",
    "tuple = (\"name\", \"DeLorean DMC-12\", \"motor_pos\", \"rear\", \"n_of_wheels\", 4, \"n_of_passengers\", 2, \"weight\", 1.230, \"height\", 1.140, \"length\", 4.216, \"width\", 1.857)\n",
    "print(tuple[1::2])"
   ]
  }
 ],
 "metadata": {
  "anaconda-cloud": {},
  "kernelspec": {
   "display_name": "Python [Root]",
   "language": "python",
   "name": "Python [Root]"
  },
  "language_info": {
   "codemirror_mode": {
    "name": "ipython",
    "version": 3
   },
   "file_extension": ".py",
   "mimetype": "text/x-python",
   "name": "python",
   "nbconvert_exporter": "python",
   "pygments_lexer": "ipython3",
   "version": "3.5.2"
  }
 },
 "nbformat": 4,
 "nbformat_minor": 0
}
