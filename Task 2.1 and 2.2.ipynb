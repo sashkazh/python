{
 "cells": [
  {
   "cell_type": "code",
   "execution_count": 6,
   "metadata": {
    "collapsed": false
   },
   "outputs": [
    {
     "name": "stdout",
     "output_type": "stream",
     "text": [
      "1 0\n",
      "6819\n",
      "('DeLorean DMC-12', 'rear', 4, 2, 1.23, 1.14, 4.216, 1.857)\n"
     ]
    },
    {
     "ename": "UnboundLocalError",
     "evalue": "local variable 'с' referenced before assignment",
     "output_type": "error",
     "traceback": [
      "\u001b[1;31m---------------------------------------------------------------------------\u001b[0m",
      "\u001b[1;31mUnboundLocalError\u001b[0m                         Traceback (most recent call last)",
      "\u001b[1;32m<ipython-input-6-51b42dbd3944>\u001b[0m in \u001b[0;36m<module>\u001b[1;34m()\u001b[0m\n\u001b[0;32m     51\u001b[0m         \u001b[0mс\u001b[0m \u001b[1;33m+=\u001b[0m \u001b[1;34m'| {} |'\u001b[0m\u001b[1;33m.\u001b[0m\u001b[0mformat\u001b[0m\u001b[1;33m(\u001b[0m\u001b[0marg\u001b[0m\u001b[1;33m)\u001b[0m\u001b[1;33m\u001b[0m\u001b[0m\n\u001b[0;32m     52\u001b[0m     \u001b[1;32mreturn\u001b[0m \u001b[0mc\u001b[0m\u001b[1;33m\u001b[0m\u001b[0m\n\u001b[1;32m---> 53\u001b[1;33m \u001b[0mprint\u001b[0m\u001b[1;33m(\u001b[0m\u001b[0mdrawingTable\u001b[0m\u001b[1;33m(\u001b[0m\u001b[1;34m\"KEK\"\u001b[0m\u001b[1;33m)\u001b[0m\u001b[1;33m)\u001b[0m\u001b[1;33m\u001b[0m\u001b[0m\n\u001b[0m\u001b[0;32m     54\u001b[0m \u001b[1;33m\u001b[0m\u001b[0m\n",
      "\u001b[1;32m<ipython-input-6-51b42dbd3944>\u001b[0m in \u001b[0;36mdrawingTable\u001b[1;34m(*args)\u001b[0m\n\u001b[0;32m     49\u001b[0m     \u001b[0mc\u001b[0m \u001b[1;33m=\u001b[0m \u001b[1;36m0\u001b[0m\u001b[1;33m\u001b[0m\u001b[0m\n\u001b[0;32m     50\u001b[0m     \u001b[1;32mfor\u001b[0m \u001b[0marg\u001b[0m \u001b[1;32min\u001b[0m \u001b[0margs\u001b[0m\u001b[1;33m:\u001b[0m\u001b[1;33m\u001b[0m\u001b[0m\n\u001b[1;32m---> 51\u001b[1;33m         \u001b[0mс\u001b[0m \u001b[1;33m+=\u001b[0m \u001b[1;34m'| {} |'\u001b[0m\u001b[1;33m.\u001b[0m\u001b[0mformat\u001b[0m\u001b[1;33m(\u001b[0m\u001b[0marg\u001b[0m\u001b[1;33m)\u001b[0m\u001b[1;33m\u001b[0m\u001b[0m\n\u001b[0m\u001b[0;32m     52\u001b[0m     \u001b[1;32mreturn\u001b[0m \u001b[0mc\u001b[0m\u001b[1;33m\u001b[0m\u001b[0m\n\u001b[0;32m     53\u001b[0m \u001b[0mprint\u001b[0m\u001b[1;33m(\u001b[0m\u001b[0mdrawingTable\u001b[0m\u001b[1;33m(\u001b[0m\u001b[1;34m\"KEK\"\u001b[0m\u001b[1;33m)\u001b[0m\u001b[1;33m)\u001b[0m\u001b[1;33m\u001b[0m\u001b[0m\n",
      "\u001b[1;31mUnboundLocalError\u001b[0m: local variable 'с' referenced before assignment"
     ]
    }
   ],
   "source": [
    "#Задание 2.1 и 2.2\n",
    "#Жуйков Александр, 3 курс, ИВТ\n",
    "#13\n",
    "#2.1 Сделать рефакторинг кода, написанного для практического задания 2, модифицируя код для вычисления результатов (таблица истинности, операции со списками и кортежами) внутрь функций. \n",
    "#Сопроводите функции соответствующей документацией (см. текст лекции). \n",
    "#Реализуйте функции для форматирования таблиц (отрисовка границ таблицы) с использованием циклов.\n",
    "\n",
    "#Импликация и стрелка Пирса\n",
    "def imp(a,b):\n",
    "    \"\"\"Функция получает на вход значения a и b и возвращает результат импиликации\"\"\"\n",
    "    if a == 1 and b == 0:\n",
    "        c = 0\n",
    "    else:\n",
    "        c = 1\n",
    "    return c\n",
    "def pirs(a,b):\n",
    "    \"\"\"Функция получает на вход значения a и b и возвращает результат логической операции 'Стрелка Пирса' \"\"\"\n",
    "    if a == 0 and b == 0:\n",
    "        c = 1\n",
    "    else:\n",
    "        c = 0\n",
    "    return c\n",
    "print(imp(0,0),pirs(1,0))\n",
    "\n",
    "#Сумма элементов, расположенных на нечётных позициях, второй половины списка\n",
    "def sumOfList(list):\n",
    "    \"\"\"\n",
    "    Функция получает на вход список list и возвращает сумму нечётных элементов второй половины списка\n",
    "    halflen - длина полусписка\n",
    "    с - сумма нечётных элементов\n",
    "    \"\"\"\n",
    "    halfLen = (len(list)//2)\n",
    "    c = sum(list[halfLen:len(list):2])\n",
    "    return c\n",
    "print(sumOfList([0, 1, 1, 2, 3, 5, 8, 13, 21, 34, 55, 89, 144, 233, 377, 610, 987, 1597, 2584, 4181, 6765, 109]))\n",
    "\n",
    "#Список всех значений\n",
    "def listOfValues(*list):\n",
    "    \"\"\"\n",
    "    Функция получает на вход список list и возвращает список всех значений\n",
    "    с - список всех значений\n",
    "    \"\"\"\n",
    "    c = list[1::2]\n",
    "    return c\n",
    "print(listOfValues(\"name\", \"DeLorean DMC-12\", \"motor_pos\", \"rear\", \"n_of_wheels\", 4, \"n_of_passengers\", 2, \"weight\", 1.230, \"height\", 1.140, \"length\", 4.216, \"width\", 1.857))\n",
    "\n",
    "#Функция отрисовки таблицы\n",
    "def drawingTable(*args):\n",
    "    for arg in args:\n",
    "        с += '| {} |'.format(arg)\n",
    "    return c\n",
    "print(drawingTable(\"KEK\"))        \n",
    "    "
   ]
  }
 ],
 "metadata": {
  "anaconda-cloud": {},
  "kernelspec": {
   "display_name": "Python [Root]",
   "language": "python",
   "name": "Python [Root]"
  },
  "language_info": {
   "codemirror_mode": {
    "name": "ipython",
    "version": 3
   },
   "file_extension": ".py",
   "mimetype": "text/x-python",
   "name": "python",
   "nbconvert_exporter": "python",
   "pygments_lexer": "ipython3",
   "version": "3.5.2"
  }
 },
 "nbformat": 4,
 "nbformat_minor": 0
}
