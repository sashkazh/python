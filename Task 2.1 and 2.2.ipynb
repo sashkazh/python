{
 "cells": [
  {
   "cell_type": "code",
   "execution_count": 13,
   "metadata": {
    "collapsed": false
   },
   "outputs": [
    {
     "name": "stdout",
     "output_type": "stream",
     "text": [
      "1 0\n",
      "6819\n",
      "('DeLorean DMC-12', 'rear', 4, 2, 1.23, 1.14, 4.216, 1.857)\n",
      "| KEK |\n",
      "None\n"
     ]
    }
   ],
   "source": [
    "#Задание 2.1 и 2.2\n",
    "#Жуйков Александр, 3 курс, ИВТ\n",
    "#13\n",
    "#2.1 Сделать рефакторинг кода, написанного для практического задания 2, модифицируя код для вычисления результатов (таблица истинности, операции со списками и кортежами) внутрь функций. \n",
    "#Сопроводите функции соответствующей документацией (см. текст лекции). \n",
    "#Реализуйте функции для форматирования таблиц (отрисовка границ таблицы) с использованием циклов.\n",
    "\n",
    "#Импликация и стрелка Пирса\n",
    "def imp(a,b):\n",
    "    \"\"\"Функция получает на вход значения a и b и возвращает результат импиликации\"\"\"\n",
    "    if a == 1 and b == 0:\n",
    "        c = 0\n",
    "    else:\n",
    "        c = 1\n",
    "    return c\n",
    "def pirs(a,b):\n",
    "    \"\"\"Функция получает на вход значения a и b и возвращает результат логической операции 'Стрелка Пирса' \"\"\"\n",
    "    if a == 0 and b == 0:\n",
    "        c = 1\n",
    "    else:\n",
    "        c = 0\n",
    "    return c\n",
    "print(imp(0,0),pirs(1,0))\n",
    "\n",
    "#Сумма элементов, расположенных на нечётных позициях, второй половины списка\n",
    "def sumOfList(list):\n",
    "    \"\"\"\n",
    "    Функция получает на вход список list и возвращает сумму нечётных элементов второй половины списка\n",
    "    halflen - длина полусписка\n",
    "    с - сумма нечётных элементов\n",
    "    \"\"\"\n",
    "    halfLen = (len(list)//2)\n",
    "    c = sum(list[halfLen:len(list):2])\n",
    "    return c\n",
    "print(sumOfList([0, 1, 1, 2, 3, 5, 8, 13, 21, 34, 55, 89, 144, 233, 377, 610, 987, 1597, 2584, 4181, 6765, 109]))\n",
    "\n",
    "#Список всех значений\n",
    "def listOfValues(*list):\n",
    "    \"\"\"\n",
    "    Функция получает на вход список list и возвращает список всех значений\n",
    "    с - список всех значений\n",
    "    \"\"\"\n",
    "    c = list[1::2]\n",
    "    return c\n",
    "print(listOfValues(\"name\", \"DeLorean DMC-12\", \"motor_pos\", \"rear\", \"n_of_wheels\", 4, \"n_of_passengers\", 2, \"weight\", 1.230, \"height\", 1.140, \"length\", 4.216, \"width\", 1.857))\n",
    "\n",
    "#Функция отрисовки таблицы\n",
    "def drawingTable(*args):\n",
    "    for arg in args:\n",
    "        print('| {} |'.format(arg))\n",
    "print(drawingTable(\"KEK\"))        \n",
    "    "
   ]
  }
 ],
 "metadata": {
  "anaconda-cloud": {},
  "kernelspec": {
   "display_name": "Python [Root]",
   "language": "python",
   "name": "Python [Root]"
  },
  "language_info": {
   "codemirror_mode": {
    "name": "ipython",
    "version": 3
   },
   "file_extension": ".py",
   "mimetype": "text/x-python",
   "name": "python",
   "nbconvert_exporter": "python",
   "pygments_lexer": "ipython3",
   "version": "3.5.2"
  }
 },
 "nbformat": 4,
 "nbformat_minor": 0
}
